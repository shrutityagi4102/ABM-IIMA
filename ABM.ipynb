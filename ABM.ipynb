{
  "cells": [
    {
      "cell_type": "markdown",
      "metadata": {
        "id": "GNqEuvjeBa9n"
      },
      "source": [
        "IMPORTING LIBRARIES"
      ]
    },
    {
      "cell_type": "code",
      "execution_count": 47,
      "metadata": {
        "id": "NFdcEZN8BmKj"
      },
      "outputs": [],
      "source": [
        "import numpy as np \n",
        "import pandas as pd \n",
        "import tensorflow as tf \n",
        "from math import sqrt\n",
        "from matplotlib import pyplot\n",
        "from sklearn.preprocessing import MinMaxScaler\n",
        "from sklearn.preprocessing import LabelEncoder\n",
        "from sklearn.metrics import mean_squared_error\n",
        "from sklearn.preprocessing import StandardScaler\n",
        "from numpy.lib.shape_base import expand_dims"
      ]
    },
    {
      "cell_type": "markdown",
      "metadata": {
        "id": "qbmu8uQTCRmD"
      },
      "source": [
        "GETTING DATA FROM EXCEL SHEET"
      ]
    },
    {
      "cell_type": "code",
      "execution_count": 67,
      "metadata": {
        "id": "_-F38G1QCcrA"
      },
      "outputs": [],
      "source": [
        "#STORING INFORMATION FROM EXCEL SHEETS\n",
        "indival = pd.read_excel(\"ans.xlsx\", sheet_name='Individual')\n",
        "nn = pd.read_excel(\"codeupdated.xlsx\", sheet_name='NN')  \n",
        "\n",
        "#DECLARE NEURAL NETWORK TO BE MADE HERE\n",
        "nntobemade = 1\n",
        "nninfo = nn.iloc[nntobemade-1]\n",
        "\n",
        "#MAKING DATA AS PER EXCELSHEET\n",
        "inputs = nninfo[\"Features\"].split(\",\")               #STORING INPUTS\n",
        "coli = [indival.columns.get_loc(i) for i in inputs]  #STORING COLUMN NUMBERS OF INPUT\n",
        "outputs = nninfo[\"Outcomes\"].split(\",\")              #STORING OUTPUTS\n",
        "colo = [indival.columns.get_loc(i) for i in outputs] #STORING COLUMN NUMBERS OF OUTPUT\n",
        "tpnum = [int(i) for i in nninfo[\"Time\"] if i.isnumeric()] #STORING TIME PERIODS\n",
        "actifun = nninfo[\"ACTIVATION FUNCTION\"] #STROING ACTIVATION FUNCTION\n",
        "x = [] \n",
        "y = []\n",
        "for i in tpnum:   #TO SELECT DATA FROM EACH TIME PERIOD\n",
        "    # DEFINING START AND END LIMITS\n",
        "    start = ((10*i)-10) \n",
        "    end = (10*i)\n",
        "    for j in range(start,end):\n",
        "      ch = indival.iloc[j].values\n",
        "      temp = []\n",
        "      # ADDING THE GIVEN INPUTS TO X LIST\n",
        "      for k in coli:\n",
        "        temp.append(ch[k])\n",
        "      x.append(temp)\n",
        "      temp = []\n",
        "      # ADDING THE GIVEN OUTPUTS TO Y LIST\n",
        "      for l in colo:\n",
        "        temp.append(ch[l])\n",
        "      y.append(temp)\n",
        "\n",
        "#LIST TO NUMPY ARRAY CONVERSION\n",
        "x = np.array(x) \n",
        "y = np.array(y)"
      ]
    },
    {
      "cell_type": "markdown",
      "metadata": {
        "id": "LzwB07RGVk18"
      },
      "source": [
        "DATA SPLITTING, FEATURE SCALING AND NUMPY ARRAY RE-SHAPING"
      ]
    },
    {
      "cell_type": "code",
      "execution_count": 68,
      "metadata": {
        "colab": {
          "base_uri": "https://localhost:8080/"
        },
        "id": "MqMi3VdeVh7w",
        "outputId": "f6d90778-bf41-428d-efad-e5f1dd8473bb"
      },
      "outputs": [
        {
          "name": "stdout",
          "output_type": "stream",
          "text": [
            "(40, 1, 3) (40, 2) (10, 1, 3) (10, 2)\n"
          ]
        }
      ],
      "source": [
        "#SPLITTING\n",
        "from sklearn.model_selection import train_test_split\n",
        "x_train, x_test, y_train, y_test = train_test_split(x, y, test_size = 0.2, random_state = 0) \n",
        "#TEST SIZE 20% TRAIN SIZE 80% \n",
        "#2:8 IS THE TEST:TRAIN RATIO\n",
        "\n",
        "#Feature-Scaling\n",
        "from sklearn.preprocessing import StandardScaler # in neural networks we apply feature scaling on every column \n",
        "sc = StandardScaler() #transforming the data to get all values between -3 to +3\n",
        "#Such that all values are in proportion and bigger values don't dominate\n",
        "x_train = sc.fit_transform(x_train) \n",
        "x_test = sc.transform(x_test)\n",
        "\n",
        "#RESHAPING\n",
        "x_train = x_train.reshape((x_train.shape[0], 1, x_train.shape[1]))\n",
        "x_test = x_test.reshape((x_test.shape[0], 1, x_test.shape[1]))\n",
        "print(x_train.shape, y_train.shape, x_test.shape, y_test.shape) #PRINITING SHAPES OF TRAIN AND TEST DATA"
      ]
    },
    {
      "cell_type": "code",
      "execution_count": null,
      "metadata": {
        "id": "KGVFRgdPWW3F"
      },
      "outputs": [],
      "source": [
        "print(x_train)"
      ]
    },
    {
      "cell_type": "code",
      "execution_count": null,
      "metadata": {
        "id": "CEb6qBhWWhAf"
      },
      "outputs": [],
      "source": [
        "print(y_train)"
      ]
    },
    {
      "cell_type": "markdown",
      "metadata": {
        "id": "rJq-1QzvYS6H"
      },
      "source": [
        "MODEL BUILDING"
      ]
    },
    {
      "cell_type": "code",
      "execution_count": 70,
      "metadata": {
        "id": "nC1Rkh4GW6jJ"
      },
      "outputs": [],
      "source": [
        "from keras.models import Sequential\n",
        "from keras.layers import Dense\n",
        "from keras.layers import LSTM\n",
        "\n",
        "model = Sequential()\n",
        "#ADDING LSTM LAYER WITH 500 NEURONS IN THE HIDDEN LAYERS\n",
        "model.add(LSTM(500, activation=actifun.lower(),input_shape=(x_train.shape[1], x_train.shape[2]))) \n",
        "model.add(Dense(len(outputs))) #OUTPUT LAYER\n",
        "model.compile(loss='mae', optimizer='adam') #LOSS FUNCTION IS MEAN ABSOLUTE ERROR AS WE ARE USING NUMERIC VALUES"
      ]
    },
    {
      "cell_type": "markdown",
      "metadata": {
        "id": "Q2yoL39zY2XK"
      },
      "source": [
        "MODEL FITTING"
      ]
    },
    {
      "cell_type": "code",
      "execution_count": null,
      "metadata": {
        "id": "eYlNVos3Yrvt"
      },
      "outputs": [],
      "source": [
        "history = model.fit(x_train, y_train, epochs=50, batch_size=72, validation_data=(x_test, y_test), verbose=2, shuffle=False)"
      ]
    },
    {
      "cell_type": "markdown",
      "metadata": {
        "id": "L1mn9OCdZKik"
      },
      "source": [
        "PLOTTING LOSS DATA"
      ]
    },
    {
      "cell_type": "code",
      "execution_count": 72,
      "metadata": {
        "colab": {
          "base_uri": "https://localhost:8080/",
          "height": 281
        },
        "id": "bM5dI-RKY53V",
        "outputId": "f0409dbf-03b7-4512-cbb8-df4a94b8b16b"
      },
      "outputs": [
        {
          "data": {
            "image/png": "[encoded data removed]",
            "text/plain": [
              "<Figure size 432x288 with 1 Axes>"
            ]
          },
          "metadata": {
            "needs_background": "light"
          },
          "output_type": "display_data"
        }
      ],
      "source": [
        "from matplotlib import pyplot\n",
        "\n",
        "pyplot.plot(history.history['loss'], label='train')\n",
        "pyplot.plot(history.history['val_loss'], label='test')\n",
        "pyplot.title(\"RESULT\")\n",
        "pyplot.legend()\n",
        "pyplot.show()\n",
        "\n",
        "#PLOTTING LOSS DATA OF THE TRAINING AND TESTING SETS"
      ]
    },
    {
      "cell_type": "markdown",
      "metadata": {
        "id": "c6sM-hQxLwfJ"
      },
      "source": [
        "PREDICITON"
      ]
    },
    {
      "cell_type": "code",
      "execution_count": 74,
      "metadata": {
        "colab": {
          "base_uri": "https://localhost:8080/"
        },
        "id": "4D0emaazZ21S",
        "outputId": "0060153e-c10d-421d-9740-b89cbaa8eb9f"
      },
      "outputs": [
        {
          "name": "stdout",
          "output_type": "stream",
          "text": [
            "[[4.0640945  0.21918872]\n",
            " [3.964504   0.2859648 ]\n",
            " [4.175365   0.1879513 ]\n",
            " [4.1550455  0.13632448]\n",
            " [4.0787444  0.2008081 ]\n",
            " [4.0687056  0.25615436]\n",
            " [4.0662947  0.22805594]\n",
            " [4.0011063  0.27821106]\n",
            " [4.036335   0.2491138 ]\n",
            " [4.1022224  0.1850628 ]]\n"
          ]
        }
      ],
      "source": [
        "ypred = model.predict(x_test)\n",
        "print(ypred)"
      ]
    },
    {
      "cell_type": "markdown",
      "metadata": {
        "id": "5g1O1XOHNj43"
      },
      "source": [
        "RMSE VALUE\n"
      ]
    },
    {
      "cell_type": "code",
      "execution_count": 75,
      "metadata": {
        "colab": {
          "base_uri": "https://localhost:8080/"
        },
        "id": "lZ67zusgNmP4",
        "outputId": "17d909c2-2aa7-463f-a2f6-fdcf3c08bc12"
      },
      "outputs": [
        {
          "name": "stdout",
          "output_type": "stream",
          "text": [
            "RMSE: 0.452\n"
          ]
        }
      ],
      "source": [
        "from sklearn.metrics import mean_squared_error\n",
        "rmse = sqrt(mean_squared_error(y_test, ypred))\n",
        "print('RMSE: %.3f' % rmse)"
      ]
    }
  ],
  "metadata": {
    "colab": {
      "name": "ABM_IIMA.ipynb",
      "provenance": []
    },
    "kernelspec": {
      "display_name": "Python 3.9.6 64-bit",
      "language": "python",
      "name": "python3"
    },
    "language_info": {
      "name": "python",
      "version": "3.9.6"
    },
    "vscode": {
      "interpreter": {
        "hash": "b0fa6594d8f4cbf19f97940f81e996739fb7646882a419484c72d19e05852a7e"
      }
    }
  },
  "nbformat": 4,
  "nbformat_minor": 0
}
